{
 "cells": [
  {
   "cell_type": "markdown",
   "metadata": {},
   "source": [
    "# Tutorial para importar dados em *STATA FORMAT* para o Python\n"
   ]
  },
  {
   "cell_type": "markdown",
   "metadata": {},
   "source": [
    "Passo 1: Incialmente, certifique que a biblioteca \"pandas\" esteja intalada em seu ambiente de desenvolvimento. Caso contratio no terminal instale a biblioteca com o comando:\n",
    "\n",
    "pip install pandas\n"
   ]
  },
  {
   "cell_type": "code",
   "execution_count": null,
   "metadata": {},
   "outputs": [],
   "source": [
    "# Passo 2: Importar a biblioteca pandas\n",
    "import pandas as pd"
   ]
  },
  {
   "cell_type": "code",
   "execution_count": 3,
   "metadata": {},
   "outputs": [],
   "source": [
    "# Passo 3: Use a função read_stata() do pandas para importar o arquivo .dta em um DataFrame. Substitua \"seuarquivo.dta\" pelo caminho e nome do seu arquivo .dta:\n",
    "dados = pd.read_stata(\"seuarquivo.dta\")"
   ]
  },
  {
   "cell_type": "code",
   "execution_count": null,
   "metadata": {},
   "outputs": [],
   "source": [
    "# Passo 4: Agora você pode trabalhar com os dados no DataFrame dados. Você pode visualizar as primeiras linhas dos dados usando head():\n",
    "print(dados.head())\n"
   ]
  },
  {
   "cell_type": "code",
   "execution_count": null,
   "metadata": {},
   "outputs": [],
   "source": [
    "# Passo 5: Para salvar os dados em outro formato, como um arquivo CSV, você pode usar o método to_csv() do pandas. Por exemplo, para salvar em um arquivo CSV chamado \"dados.csv\":\n",
    "dados.to_csv(\"dados.csv\", index=False)\n"
   ]
  }
 ],
 "metadata": {
  "kernelspec": {
   "display_name": "Python 3",
   "language": "python",
   "name": "python3"
  },
  "language_info": {
   "codemirror_mode": {
    "name": "ipython",
    "version": 3
   },
   "file_extension": ".py",
   "mimetype": "text/x-python",
   "name": "python",
   "nbconvert_exporter": "python",
   "pygments_lexer": "ipython3",
   "version": "3.11.4"
  },
  "orig_nbformat": 4
 },
 "nbformat": 4,
 "nbformat_minor": 2
}
